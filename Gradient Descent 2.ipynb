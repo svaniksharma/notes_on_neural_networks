{
 "metadata": {
  "language_info": {
   "codemirror_mode": {
    "name": "ipython",
    "version": 3
   },
   "file_extension": ".py",
   "mimetype": "text/x-python",
   "name": "python",
   "nbconvert_exporter": "python",
   "pygments_lexer": "ipython3",
   "version": 3
  },
  "orig_nbformat": 2
 },
 "nbformat": 4,
 "nbformat_minor": 2,
 "cells": [
  {
   "source": [
    "<h1>Proof/Derivation of Gradient Descent and its Variations</h1>\n",
    "\n",
    "In the last part I covered the different gradient descent algorithms and an optimization. In this part I hope to provide some proofs/derivations of\n",
    "why the gradient descent algorithm works and also provide some visualization for it.\n",
    "\n",
    "<h2>Implementation<h2>\n",
    "\n",
    "I'm going to implement a `GradientDescent` class that will allow us to perform different variations of gradient descent. Just like last time, we'll\n",
    "start out by implementing the naive version of gradient descent, and then building on it as time goes on."
   ],
   "cell_type": "markdown",
   "metadata": {}
  }
 ]
}